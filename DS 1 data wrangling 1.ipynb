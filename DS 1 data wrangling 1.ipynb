{
 "cells": [
  {
   "cell_type": "code",
   "execution_count": 21,
   "id": "db60043d",
   "metadata": {},
   "outputs": [
    {
     "data": {
      "text/plain": [
       "0       1770\n",
       "1        630\n",
       "2       1696\n",
       "3         16\n",
       "4        448\n",
       "        ... \n",
       "2995     584\n",
       "2996    2002\n",
       "2997     281\n",
       "2998      22\n",
       "2999     801\n",
       "Name: c_to_n, Length: 3000, dtype: int64"
      ]
     },
     "execution_count": 21,
     "metadata": {},
     "output_type": "execute_result"
    }
   ],
   "source": [
    "import numpy as np\n",
    "import pandas as pd\n",
    "import matplotlib.pyplot as plt\n",
    "from sklearn.preprocessing import LabelEncoder\n",
    "\n",
    "df = pd.read_csv(\"C:/Users/DELL/OneDrive/Desktop/Sarthaka/ACADEMICS/DS/practicals/california_housing_test.csv\")\n",
    "df.head()\n",
    "\n",
    "df.describe()\n",
    "df.isnull().sum()\n",
    "df.dtypes\n",
    "df.shape\n",
    "df.dtypes\n",
    "\n",
    "df['total_rooms'] = df['total_rooms'].astype('int')\n",
    "df['total_bedrooms'] = df['total_bedrooms'].astype('int')\n",
    "df.dtypes\n",
    "\n",
    "le = LabelEncoder()\n",
    "df['c_to_n'] = le.fit_transform(df['total_rooms'])\n",
    "df['c_to_n']"
   ]
  }
 ],
 "metadata": {
  "kernelspec": {
   "display_name": "Python 3 (ipykernel)",
   "language": "python",
   "name": "python3"
  },
  "language_info": {
   "codemirror_mode": {
    "name": "ipython",
    "version": 3
   },
   "file_extension": ".py",
   "mimetype": "text/x-python",
   "name": "python",
   "nbconvert_exporter": "python",
   "pygments_lexer": "ipython3",
   "version": "3.11.5"
  }
 },
 "nbformat": 4,
 "nbformat_minor": 5
}
