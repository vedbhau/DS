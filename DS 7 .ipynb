{
 "cells": [
  {
   "cell_type": "code",
   "execution_count": 7,
   "id": "5609f3d6",
   "metadata": {},
   "outputs": [
    {
     "name": "stderr",
     "output_type": "stream",
     "text": [
      "[nltk_data] Downloading package punkt to\n",
      "[nltk_data]     C:\\Users\\ASUS\\AppData\\Roaming\\nltk_data...\n",
      "[nltk_data]   Package punkt is already up-to-date!\n",
      "[nltk_data] Downloading package wordnet to\n",
      "[nltk_data]     C:\\Users\\ASUS\\AppData\\Roaming\\nltk_data...\n",
      "[nltk_data]   Package wordnet is already up-to-date!\n",
      "[nltk_data] Downloading package averaged_perceptron_tagger to\n",
      "[nltk_data]     C:\\Users\\ASUS\\AppData\\Roaming\\nltk_data...\n",
      "[nltk_data]   Package averaged_perceptron_tagger is already up-to-\n",
      "[nltk_data]       date!\n",
      "[nltk_data] Downloading package stopwords to\n",
      "[nltk_data]     C:\\Users\\ASUS\\AppData\\Roaming\\nltk_data...\n",
      "[nltk_data]   Package stopwords is already up-to-date!\n"
     ]
    },
    {
     "name": "stdout",
     "output_type": "stream",
     "text": [
      "['real', 'madrid', 'is', 'set', 'to', 'win', 'the', 'ucl', 'for', 'the', 'season', '.', 'benzema', 'might', 'win', 'balon', 'dor', '.', 'salah', 'might', 'be', 'the', 'runner', 'up']\n",
      "['real', 'madrid', 'is', 'set', 'to', 'win', 'the', 'ucl', 'for', 'the', 'season', '.', 'benzema', 'might', 'win', 'balon', 'dor', '.', 'salah', 'might', 'be', 'the', 'runner', 'up']\n",
      "parts of Speech [('real', 'JJ'), ('madrid', 'NN'), ('is', 'VBZ'), ('set', 'VBN'), ('to', 'TO'), ('win', 'VB'), ('the', 'DT'), ('ucl', 'NN'), ('for', 'IN'), ('the', 'DT'), ('season', 'NN'), ('.', '.'), ('benzema', 'NN'), ('might', 'MD'), ('win', 'VB'), ('balon', 'NN'), ('dor', 'NN'), ('.', '.'), ('salah', 'NN'), ('might', 'MD'), ('be', 'VB'), ('the', 'DT'), ('runner', 'NN'), ('up', 'RP')]\n",
      "{'is', 'in', 'which', 'do', 'ours', 'we', 'be', 'can', 'didn', \"wouldn't\", 'my', 'couldn', 'more', \"won't\", 'this', 'been', 'have', 'haven', 'o', 'these', 'him', 'as', \"hadn't\", 'shan', 'that', \"should've\", 'very', 'by', \"it's\", 'up', 'a', 'has', 'where', 'no', 'hasn', 'shouldn', 'he', 'down', \"weren't\", 'had', 'those', 'only', \"mightn't\", 'hers', 'then', \"shan't\", \"that'll\", 'his', 'while', \"you'd\", 'with', 'under', 'to', \"you're\", 'below', 'because', 'd', \"needn't\", 'our', 'was', 'theirs', 'doesn', 'themselves', 'such', 'me', 'their', 'above', 'other', 'not', 'it', 'm', 'and', 'than', 'wasn', 'yourself', \"couldn't\", 'again', 'over', \"shouldn't\", 'don', 'am', 'during', 't', 'any', 'into', 'ourselves', 'when', 'just', 'hadn', 'the', 'himself', 'ain', \"don't\", 'from', \"aren't\", 'does', 'here', 'how', 'for', 'too', 'did', 'few', 'against', 'yours', \"doesn't\", 'you', \"you've\", 'needn', 'what', 'whom', 'herself', 'some', 'having', 'so', \"isn't\", \"wasn't\", 'wouldn', 've', \"she's\", 'or', 'were', 'before', 'once', 'should', 'isn', 'they', 'further', 'both', 'mightn', 'she', \"you'll\", 'if', 'there', 'won', 'aren', 'itself', 'most', 'out', 'why', \"hasn't\", 'at', \"haven't\", 'off', 'ma', 'own', 'through', 'will', 'same', 'each', 'your', 'its', 'weren', 'who', 'now', 'doing', 'are', \"mustn't\", 'between', 'all', 'on', 'but', 're', \"didn't\", 'i', 'll', 'her', 'of', 'about', 'being', 'yourselves', 'nor', 'until', 'after', 'y', 'an', 's', 'myself', 'them', 'mustn'}\n",
      "Real madrid set win UCL season . Benzema might win Balon dor . Salah might runner\n",
      "TF-IDF Matrix:\n",
      "[[0.         0.         0.         0.30300252 0.30300252 0.30300252\n",
      "  0.         0.         0.30300252 0.         0.         0.30300252\n",
      "  0.30300252 0.46088245 0.30300252 0.30300252 0.         0.23044123]\n",
      " [0.49047908 0.         0.49047908 0.         0.         0.\n",
      "  0.37302199 0.49047908 0.         0.         0.         0.\n",
      "  0.         0.         0.         0.         0.         0.37302199]\n",
      " [0.         0.44036207 0.         0.         0.         0.\n",
      "  0.3349067  0.         0.         0.44036207 0.44036207 0.\n",
      "  0.         0.3349067  0.         0.         0.44036207 0.        ]]\n",
      "\n",
      "Feature Names:\n",
      "['ballon' 'be' 'benzema' 'for' 'is' 'madrid' 'might' 'or' 'real' 'runner'\n",
      " 'salah' 'season' 'set' 'the' 'to' 'ucl' 'up' 'win']\n"
     ]
    }
   ],
   "source": [
    "import nltk\n",
    "from nltk.tokenize import sent_tokenize,word_tokenize\n",
    "from nltk.stem import PorterStemmer\n",
    "from nltk.stem import WordNetLemmatizer\n",
    "from nltk.corpus import stopwords\n",
    "nltk.download('punkt')\n",
    "nltk.download('wordnet')\n",
    "nltk.download('averaged_perceptron_tagger')\n",
    "nltk.download('stopwords')\n",
    "\n",
    "text = 'Real madrid is set to win the UCL for the season . Benzema might win Balon dor . Salah might be the runner up'\n",
    "tokens_s=sent_tokenize(text)\n",
    "tokens_s\n",
    "token_w=word_tokenize(text)\n",
    "text\n",
    "stem=[]\n",
    "ps=PorterStemmer()\n",
    "for i in token_w:\n",
    "    stem_word=ps.stem(i)\n",
    "    stem.append(stem_word)\n",
    "print(stem)   \n",
    "leme=[]\n",
    "lemeti=WordNetLemmatizer()\n",
    "for i in stem:\n",
    "    lem_word=lemeti.lemmatize(i)\n",
    "    leme.append(lem_word)\n",
    "print(leme) \n",
    "print(\"parts of Speech\",nltk.pos_tag(leme))\n",
    "stopw=set(stopwords.words('english'))\n",
    "print(stopw)          \n",
    "words=[word for word in token_w if word.lower() not in stopw]\n",
    "new_text=\" \".join(words)\n",
    "print(new_text)\n",
    "from sklearn.feature_extraction.text import TfidfVectorizer\n",
    "\n",
    "# Sample documents\n",
    "documents = [\n",
    "    'Real Madrid is set to win the UCL for the season.',\n",
    "    'Benzema might win Ballon d\\'Or.',\n",
    "    'Salah might be the runner up.'\n",
    "]\n",
    "\n",
    "# Initialize TfidfVectorizer\n",
    "tfidf_vectorizer = TfidfVectorizer()\n",
    "\n",
    "# Fit the vectorizer to the documents and transform the documents to TF-IDF matrix\n",
    "tfidf_matrix = tfidf_vectorizer.fit_transform(documents)\n",
    "\n",
    "# Get the feature names (words)\n",
    "feature_names = tfidf_vectorizer.get_feature_names_out()\n",
    "\n",
    "# Display TF-IDF matrix\n",
    "print(\"TF-IDF Matrix:\")\n",
    "print(tfidf_matrix.toarray())\n",
    "\n",
    "# Display feature names\n",
    "print(\"\\nFeature Names:\")\n",
    "print(feature_names)"
   ]
  },
  {
   "cell_type": "code",
   "execution_count": null,
   "id": "8a0c8dea",
   "metadata": {},
   "outputs": [],
   "source": []
  }
 ],
 "metadata": {
  "kernelspec": {
   "display_name": "Python 3 (ipykernel)",
   "language": "python",
   "name": "python3"
  },
  "language_info": {
   "codemirror_mode": {
    "name": "ipython",
    "version": 3
   },
   "file_extension": ".py",
   "mimetype": "text/x-python",
   "name": "python",
   "nbconvert_exporter": "python",
   "pygments_lexer": "ipython3",
   "version": "3.9.13"
  },
  "varInspector": {
   "cols": {
    "lenName": 16,
    "lenType": 16,
    "lenVar": 40
   },
   "kernels_config": {
    "python": {
     "delete_cmd_postfix": "",
     "delete_cmd_prefix": "del ",
     "library": "var_list.py",
     "varRefreshCmd": "print(var_dic_list())"
    },
    "r": {
     "delete_cmd_postfix": ") ",
     "delete_cmd_prefix": "rm(",
     "library": "var_list.r",
     "varRefreshCmd": "cat(var_dic_list()) "
    }
   },
   "types_to_exclude": [
    "module",
    "function",
    "builtin_function_or_method",
    "instance",
    "_Feature"
   ],
   "window_display": false
  }
 },
 "nbformat": 4,
 "nbformat_minor": 5
}
