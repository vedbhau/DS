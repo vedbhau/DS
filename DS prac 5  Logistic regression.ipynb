{
 "cells": [
  {
   "cell_type": "markdown",
   "id": "9d00ce49",
   "metadata": {},
   "source": [
    "Data Analytics II \n",
    "1. Implement logistic regression using Python/R to perform classification on \n",
    "Social_Network_Ads.csv dataset.\n",
    "2. Compute Confusion matrix to find TP, FP, TN, FN, Accuracy, Error rate, Precision, \n",
    "Recall on the given dataset.\n"
   ]
  },
  {
   "cell_type": "code",
   "execution_count": 2,
   "id": "2d79a8f6",
   "metadata": {},
   "outputs": [],
   "source": [
    "import pandas as pd\n",
    "import numpy as np\n",
    "from matplotlib import pyplot as plt\n",
    "%matplotlib inline "
   ]
  },
  {
   "cell_type": "markdown",
   "id": "adfc201c",
   "metadata": {},
   "source": [
    "# importing dataset"
   ]
  },
  {
   "cell_type": "code",
   "execution_count": 4,
   "id": "f0f82449",
   "metadata": {},
   "outputs": [
    {
     "name": "stdout",
     "output_type": "stream",
     "text": [
      "<class 'pandas.core.frame.DataFrame'>\n",
      "RangeIndex: 400 entries, 0 to 399\n",
      "Data columns (total 3 columns):\n",
      " #   Column           Non-Null Count  Dtype\n",
      "---  ------           --------------  -----\n",
      " 0   Age              400 non-null    int64\n",
      " 1   EstimatedSalary  400 non-null    int64\n",
      " 2   Purchased        400 non-null    int64\n",
      "dtypes: int64(3)\n",
      "memory usage: 9.5 KB\n",
      "Outcome values : \n",
      " 65 3 8 24\n",
      "Accuracy :  0.89\n",
      "Precision :  0.8904109589041096\n",
      "Recall :  0.9558823529411765\n",
      "F1-Score :  0.9219858156028368\n"
     ]
    }
   ],
   "source": [
    "df = pd.read_csv('Social_Network_Ads.csv')\n",
    "df.head(10)\n",
    "\n",
    "df.info() \n",
    "\n",
    "df.describe() \n",
    "\n",
    "X = df.iloc[:,[0,1]].values\n",
    "y = df.iloc[:,2].values \n",
    "\n",
    "X\n",
    "y\n",
    "\n",
    "from sklearn.model_selection import train_test_split\n",
    "X_train, X_test, y_train, y_test = train_test_split(X, y, test_size=0.25, random_state=0)\n",
    "\n",
    "from sklearn.preprocessing import StandardScaler\n",
    "sc = StandardScaler()\n",
    "X_train = sc.fit_transform(X_train)\n",
    "X_test = sc.transform(X_test) \n",
    "\n",
    "X_train \n",
    "\n",
    "from sklearn.linear_model import LogisticRegression\n",
    "classifier = LogisticRegression(random_state=0)\n",
    "classifier.fit(X_train,y_train) \n",
    "\n",
    "y_pred = classifier.predict(X_test) \n",
    "y_pred\n",
    "\n",
    "from sklearn.metrics import confusion_matrix,classification_report\n",
    "cm = confusion_matrix(y_test , y_pred) \n",
    "\n",
    "cm\n",
    "\n",
    "c1_report = classification_report(y_test,y_pred) \n",
    "\n",
    "tp , fn ,fp , tn = confusion_matrix(y_test,y_pred,labels=[0,1]).reshape(-1)\n",
    "print('Outcome values : \\n' , tp , fn , fp ,tn) \n",
    "\n",
    "accuracy_cm = (tp+tn)/(tp+fp+tn+fn)\n",
    "precision_cm = tp/(tp+fp)\n",
    "recall_cm = tp/(tp+fn)\n",
    "f1_score = 2/((1/recall_cm)+(1/precision_cm)) \n",
    "\n",
    "print(\"Accuracy : \",accuracy_cm)\n",
    "print(\"Precision : \",precision_cm)\n",
    "print(\"Recall : \",recall_cm)\n",
    "print(\"F1-Score : \",f1_score) "
   ]
  }
 ],
 "metadata": {
  "kernelspec": {
   "display_name": "Python 3 (ipykernel)",
   "language": "python",
   "name": "python3"
  },
  "language_info": {
   "codemirror_mode": {
    "name": "ipython",
    "version": 3
   },
   "file_extension": ".py",
   "mimetype": "text/x-python",
   "name": "python",
   "nbconvert_exporter": "python",
   "pygments_lexer": "ipython3",
   "version": "3.9.13"
  },
  "varInspector": {
   "cols": {
    "lenName": 16,
    "lenType": 16,
    "lenVar": 40
   },
   "kernels_config": {
    "python": {
     "delete_cmd_postfix": "",
     "delete_cmd_prefix": "del ",
     "library": "var_list.py",
     "varRefreshCmd": "print(var_dic_list())"
    },
    "r": {
     "delete_cmd_postfix": ") ",
     "delete_cmd_prefix": "rm(",
     "library": "var_list.r",
     "varRefreshCmd": "cat(var_dic_list()) "
    }
   },
   "types_to_exclude": [
    "module",
    "function",
    "builtin_function_or_method",
    "instance",
    "_Feature"
   ],
   "window_display": false
  }
 },
 "nbformat": 4,
 "nbformat_minor": 5
}
