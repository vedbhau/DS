{
 "cells": [
  {
   "cell_type": "code",
   "execution_count": null,
   "id": "4d5ae7e9",
   "metadata": {},
   "outputs": [],
   "source": [
    "import pandas as pd\n",
    "import numpy as np\n",
    "import matplotlib.pyplot as plt\n",
    "data = pd.read_csv('Iris.csv')\n",
    "data\n",
    "\n",
    "data.shape\n",
    "data.describe()\n",
    "\n",
    "data['Sepal_length'].describe()\n",
    "data.groupby(\"Species\").describe()\n",
    "data.groupby(\"Species\").describe().sum()\n",
    "data.groupby(\"Species\").count()\n",
    "data.groupby(\"Species\").mean()\n",
    "data.groupby(\"Species\").median\n",
    "()\n",
    "data.species.mode()\n",
    "data.sepal_length.std()\n",
    "import seaborn as sns\n",
    "sns.violinplot(x=\"Sepal_width\", y=\"species\", data=data)"
   ]
  }
 ],
 "metadata": {
  "kernelspec": {
   "display_name": "Python 3 (ipykernel)",
   "language": "python",
   "name": "python3"
  },
  "language_info": {
   "codemirror_mode": {
    "name": "ipython",
    "version": 3
   },
   "file_extension": ".py",
   "mimetype": "text/x-python",
   "name": "python",
   "nbconvert_exporter": "python",
   "pygments_lexer": "ipython3",
   "version": "3.9.13"
  },
  "varInspector": {
   "cols": {
    "lenName": 16,
    "lenType": 16,
    "lenVar": 40
   },
   "kernels_config": {
    "python": {
     "delete_cmd_postfix": "",
     "delete_cmd_prefix": "del ",
     "library": "var_list.py",
     "varRefreshCmd": "print(var_dic_list())"
    },
    "r": {
     "delete_cmd_postfix": ") ",
     "delete_cmd_prefix": "rm(",
     "library": "var_list.r",
     "varRefreshCmd": "cat(var_dic_list()) "
    }
   },
   "types_to_exclude": [
    "module",
    "function",
    "builtin_function_or_method",
    "instance",
    "_Feature"
   ],
   "window_display": false
  }
 },
 "nbformat": 4,
 "nbformat_minor": 5
}
